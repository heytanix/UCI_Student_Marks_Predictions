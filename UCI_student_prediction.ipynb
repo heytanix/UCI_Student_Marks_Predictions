{
 "cells": [
  {
   "cell_type": "code",
   "execution_count": null,
   "id": "446d81a9-d213-4ba5-aab4-5aee77d823b1",
   "metadata": {},
   "outputs": [],
   "source": [
    "#Student Marks Prediction (Classification/Regression)"
   ]
  }
 ],
 "metadata": {
  "kernelspec": {
   "display_name": "Python 3 (ipykernel)",
   "language": "python",
   "name": "python3"
  },
  "language_info": {
   "codemirror_mode": {
    "name": "ipython",
    "version": 3
   },
   "file_extension": ".py",
   "mimetype": "text/x-python",
   "name": "python",
   "nbconvert_exporter": "python",
   "pygments_lexer": "ipython3",
   "version": "3.12.3"
  }
 },
 "nbformat": 4,
 "nbformat_minor": 5
}
